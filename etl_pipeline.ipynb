{
 "cells": [
  {
   "cell_type": "markdown",
   "id": "55b0028b",
   "metadata": {},
   "source": [
    "# EXTRACT - TRANSFORM - LOAD(ETL) PIPELINE\n",
    "### Simulating our own banking data\n",
    "To practice the ETL process, we will simulate our own banking data. This data will include users id, different events like deposits, withdrawals, and transfers, and the amounts associated with these events, and the timestamps of these events."
   ]
  },
  {
   "cell_type": "code",
   "execution_count": 107,
   "id": "4322d847",
   "metadata": {},
   "outputs": [
    {
     "data": {
      "application/vnd.microsoft.datawrangler.viewer.v0+json": {
       "columns": [
        {
         "name": "index",
         "rawType": "int64",
         "type": "integer"
        },
        {
         "name": "user_id",
         "rawType": "object",
         "type": "string"
        },
        {
         "name": "event",
         "rawType": "object",
         "type": "string"
        },
        {
         "name": "amount",
         "rawType": "float64",
         "type": "float"
        },
        {
         "name": "timestamp",
         "rawType": "object",
         "type": "string"
        },
        {
         "name": "loan_status",
         "rawType": "object",
         "type": "unknown"
        }
       ],
       "ref": "c54b274d-86b9-4705-b551-ec43890de43a",
       "rows": [
        [
         "0",
         "user_49",
         "login",
         null,
         "2025-05-04T08:49:00",
         null
        ],
        [
         "1",
         "user_1",
         "login",
         null,
         "2025-05-20T09:18:00",
         null
        ],
        [
         "2",
         "user_5",
         "atm_withdrawal",
         "86308.98",
         "2025-05-03T12:24:00",
         null
        ],
        [
         "3",
         "user_30",
         "login",
         null,
         "2025-05-23T01:35:00",
         null
        ],
        [
         "4",
         "user_31",
         "withdraw",
         "28519.39",
         "2025-05-24T14:16:00",
         null
        ]
       ],
       "shape": {
        "columns": 5,
        "rows": 5
       }
      },
      "text/html": [
       "<div>\n",
       "<style scoped>\n",
       "    .dataframe tbody tr th:only-of-type {\n",
       "        vertical-align: middle;\n",
       "    }\n",
       "\n",
       "    .dataframe tbody tr th {\n",
       "        vertical-align: top;\n",
       "    }\n",
       "\n",
       "    .dataframe thead th {\n",
       "        text-align: right;\n",
       "    }\n",
       "</style>\n",
       "<table border=\"1\" class=\"dataframe\">\n",
       "  <thead>\n",
       "    <tr style=\"text-align: right;\">\n",
       "      <th></th>\n",
       "      <th>user_id</th>\n",
       "      <th>event</th>\n",
       "      <th>amount</th>\n",
       "      <th>timestamp</th>\n",
       "      <th>loan_status</th>\n",
       "    </tr>\n",
       "  </thead>\n",
       "  <tbody>\n",
       "    <tr>\n",
       "      <th>0</th>\n",
       "      <td>user_49</td>\n",
       "      <td>login</td>\n",
       "      <td>NaN</td>\n",
       "      <td>2025-05-04T08:49:00</td>\n",
       "      <td>None</td>\n",
       "    </tr>\n",
       "    <tr>\n",
       "      <th>1</th>\n",
       "      <td>user_1</td>\n",
       "      <td>login</td>\n",
       "      <td>NaN</td>\n",
       "      <td>2025-05-20T09:18:00</td>\n",
       "      <td>None</td>\n",
       "    </tr>\n",
       "    <tr>\n",
       "      <th>2</th>\n",
       "      <td>user_5</td>\n",
       "      <td>atm_withdrawal</td>\n",
       "      <td>86308.98</td>\n",
       "      <td>2025-05-03T12:24:00</td>\n",
       "      <td>None</td>\n",
       "    </tr>\n",
       "    <tr>\n",
       "      <th>3</th>\n",
       "      <td>user_30</td>\n",
       "      <td>login</td>\n",
       "      <td>NaN</td>\n",
       "      <td>2025-05-23T01:35:00</td>\n",
       "      <td>None</td>\n",
       "    </tr>\n",
       "    <tr>\n",
       "      <th>4</th>\n",
       "      <td>user_31</td>\n",
       "      <td>withdraw</td>\n",
       "      <td>28519.39</td>\n",
       "      <td>2025-05-24T14:16:00</td>\n",
       "      <td>None</td>\n",
       "    </tr>\n",
       "  </tbody>\n",
       "</table>\n",
       "</div>"
      ],
      "text/plain": [
       "   user_id           event    amount            timestamp loan_status\n",
       "0  user_49           login       NaN  2025-05-04T08:49:00        None\n",
       "1   user_1           login       NaN  2025-05-20T09:18:00        None\n",
       "2   user_5  atm_withdrawal  86308.98  2025-05-03T12:24:00        None\n",
       "3  user_30           login       NaN  2025-05-23T01:35:00        None\n",
       "4  user_31        withdraw  28519.39  2025-05-24T14:16:00        None"
      ]
     },
     "execution_count": 107,
     "metadata": {},
     "output_type": "execute_result"
    }
   ],
   "source": [
    "import pandas as pd\n",
    "import numpy as np\n",
    "from datetime import datetime, timedelta\n",
    "import random\n",
    "\n",
    "# Set seed for reproducibility\n",
    "random.seed(42)\n",
    "np.random.seed(42)\n",
    "\n",
    "# Define parameters for the synthetic banking data\n",
    "events = ['deposit', 'withdraw', 'loan_application', 'atm_withdrawal', 'login']\n",
    "users = ['user_'+str(i) for i in range(1, 50)]\n",
    "amounts = [round(random.uniform(1000, 100000), 2) for _ in range(50)]\n",
    "start_date = datetime(2025, 5, 1)\n",
    "end_date = datetime(2025, 5, 31)\n",
    "delta = (end_date - start_date).days + 1# including end date\n",
    "\n",
    "# Generating the synthetic banking data\n",
    "data = []\n",
    "for i in range(delta):\n",
    "    date = start_date + timedelta(days=i)\n",
    "    for _ in range(random.randint(3, 6)):# 3–6 events per day\n",
    "        event_choice = random.choice(events)\n",
    "        amount = random.choice(amounts) if event_choice in ['deposit', 'withdraw', 'atm_withdrawal', 'loan_application'] else None\n",
    "        record = {\n",
    "            'user_id': random.choice(users),\n",
    "            'event': event_choice,\n",
    "            'amount': amount,\n",
    "            'timestamp': (date + timedelta(\n",
    "                hours=random.randint(0, 23),\n",
    "                minutes=random.randint(0, 59)\n",
    "            )).isoformat()\n",
    "        }\n",
    "        # Loan approval status\n",
    "        if event_choice == 'loan_application':\n",
    "            record['loan_status'] = random.choice(['approved', 'rejected'])\n",
    "        else:\n",
    "            record['loan_status'] = None\n",
    "        data.append(record)\n",
    "\n",
    "# Create a DataFrame from the generated data\n",
    "banking_data = pd.DataFrame(data)\n",
    "\n",
    "# add some duplicate entries\n",
    "duplicates = banking_data.sample(frac=0.05, random_state=42)  # 5% of the data as duplicates\n",
    "banking_data = pd.concat([banking_data, duplicates], ignore_index=True)\n",
    "\n",
    "# Shuffle the data and save to CSV\n",
    "banking_data = banking_data.sample(frac=1, random_state=42).reset_index(drop=True)  \n",
    "\n",
    "banking_data.to_csv('banking_data.csv', index=False)\n",
    "banking_data.head()"
   ]
  },
  {
   "cell_type": "markdown",
   "id": "dc940cad",
   "metadata": {},
   "source": [
    "## **1. Extraction**\n",
    "* Extraction is the process of obtaining data from various sources and changing it to a destination designed to support analysis.\n",
    "* There are two main types of extraction:\n",
    "  - **Incremental Extraction**: Only new or changed records are extracted since the last ETL run.\n",
    "  - **Full Extraction**: All records are extracted every time the ETL process runs.\n",
    "\n",
    "### ***a. Full Extraction***\n",
    "A Full Extraction means that every time you run the ETL process, you extract all records from the data source, regardless of whether they have changed or not."
   ]
  },
  {
   "cell_type": "code",
   "execution_count": 108,
   "id": "1b4f842e",
   "metadata": {},
   "outputs": [
    {
     "name": "stdout",
     "output_type": "stream",
     "text": [
      "Pulled 154 rows via full extraction.\n"
     ]
    },
    {
     "data": {
      "application/vnd.microsoft.datawrangler.viewer.v0+json": {
       "columns": [
        {
         "name": "index",
         "rawType": "int64",
         "type": "integer"
        },
        {
         "name": "user_id",
         "rawType": "object",
         "type": "string"
        },
        {
         "name": "event",
         "rawType": "object",
         "type": "string"
        },
        {
         "name": "amount",
         "rawType": "float64",
         "type": "float"
        },
        {
         "name": "timestamp",
         "rawType": "datetime64[ns]",
         "type": "datetime"
        },
        {
         "name": "loan_status",
         "rawType": "object",
         "type": "unknown"
        }
       ],
       "ref": "7060b1da-fcac-426c-8285-6d836500c9a8",
       "rows": [
        [
         "0",
         "user_49",
         "login",
         null,
         "2025-05-04 08:49:00",
         null
        ],
        [
         "1",
         "user_1",
         "login",
         null,
         "2025-05-20 09:18:00",
         null
        ],
        [
         "2",
         "user_5",
         "atm_withdrawal",
         "86308.98",
         "2025-05-03 12:24:00",
         null
        ],
        [
         "3",
         "user_30",
         "login",
         null,
         "2025-05-23 01:35:00",
         null
        ],
        [
         "4",
         "user_31",
         "withdraw",
         "28519.39",
         "2025-05-24 14:16:00",
         null
        ]
       ],
       "shape": {
        "columns": 5,
        "rows": 5
       }
      },
      "text/html": [
       "<div>\n",
       "<style scoped>\n",
       "    .dataframe tbody tr th:only-of-type {\n",
       "        vertical-align: middle;\n",
       "    }\n",
       "\n",
       "    .dataframe tbody tr th {\n",
       "        vertical-align: top;\n",
       "    }\n",
       "\n",
       "    .dataframe thead th {\n",
       "        text-align: right;\n",
       "    }\n",
       "</style>\n",
       "<table border=\"1\" class=\"dataframe\">\n",
       "  <thead>\n",
       "    <tr style=\"text-align: right;\">\n",
       "      <th></th>\n",
       "      <th>user_id</th>\n",
       "      <th>event</th>\n",
       "      <th>amount</th>\n",
       "      <th>timestamp</th>\n",
       "      <th>loan_status</th>\n",
       "    </tr>\n",
       "  </thead>\n",
       "  <tbody>\n",
       "    <tr>\n",
       "      <th>0</th>\n",
       "      <td>user_49</td>\n",
       "      <td>login</td>\n",
       "      <td>NaN</td>\n",
       "      <td>2025-05-04 08:49:00</td>\n",
       "      <td>NaN</td>\n",
       "    </tr>\n",
       "    <tr>\n",
       "      <th>1</th>\n",
       "      <td>user_1</td>\n",
       "      <td>login</td>\n",
       "      <td>NaN</td>\n",
       "      <td>2025-05-20 09:18:00</td>\n",
       "      <td>NaN</td>\n",
       "    </tr>\n",
       "    <tr>\n",
       "      <th>2</th>\n",
       "      <td>user_5</td>\n",
       "      <td>atm_withdrawal</td>\n",
       "      <td>86308.98</td>\n",
       "      <td>2025-05-03 12:24:00</td>\n",
       "      <td>NaN</td>\n",
       "    </tr>\n",
       "    <tr>\n",
       "      <th>3</th>\n",
       "      <td>user_30</td>\n",
       "      <td>login</td>\n",
       "      <td>NaN</td>\n",
       "      <td>2025-05-23 01:35:00</td>\n",
       "      <td>NaN</td>\n",
       "    </tr>\n",
       "    <tr>\n",
       "      <th>4</th>\n",
       "      <td>user_31</td>\n",
       "      <td>withdraw</td>\n",
       "      <td>28519.39</td>\n",
       "      <td>2025-05-24 14:16:00</td>\n",
       "      <td>NaN</td>\n",
       "    </tr>\n",
       "  </tbody>\n",
       "</table>\n",
       "</div>"
      ],
      "text/plain": [
       "   user_id           event    amount           timestamp loan_status\n",
       "0  user_49           login       NaN 2025-05-04 08:49:00         NaN\n",
       "1   user_1           login       NaN 2025-05-20 09:18:00         NaN\n",
       "2   user_5  atm_withdrawal  86308.98 2025-05-03 12:24:00         NaN\n",
       "3  user_30           login       NaN 2025-05-23 01:35:00         NaN\n",
       "4  user_31        withdraw  28519.39 2025-05-24 14:16:00         NaN"
      ]
     },
     "execution_count": 108,
     "metadata": {},
     "output_type": "execute_result"
    }
   ],
   "source": [
    "# loading the banking data\n",
    "full_extraction = pd.read_csv(\"banking_data.csv\", parse_dates=[\"timestamp\"])\n",
    "print(f\"Pulled {len(banking_data)} rows via full extraction.\")\n",
    "full_extraction.head()"
   ]
  },
  {
   "cell_type": "markdown",
   "id": "207f3381",
   "metadata": {},
   "source": [
    "###  ***b. Incremental Extraction***\n",
    "An Incremental Extraction means that you only extract records that have changed since the last extraction. This is often done by using timestamps or change data capture techniques to identify new or modified records."
   ]
  },
  {
   "cell_type": "code",
   "execution_count": 109,
   "id": "623ad125",
   "metadata": {},
   "outputs": [
    {
     "name": "stdout",
     "output_type": "stream",
     "text": [
      "Extracted 83 rows incrementally since 2025-05-15 12:00:00.\n",
      "Updated last extraction timestamp to 2025-05-31T14:27:00.\n"
     ]
    },
    {
     "data": {
      "application/vnd.microsoft.datawrangler.viewer.v0+json": {
       "columns": [
        {
         "name": "index",
         "rawType": "int64",
         "type": "integer"
        },
        {
         "name": "user_id",
         "rawType": "object",
         "type": "string"
        },
        {
         "name": "event",
         "rawType": "object",
         "type": "string"
        },
        {
         "name": "amount",
         "rawType": "float64",
         "type": "float"
        },
        {
         "name": "timestamp",
         "rawType": "datetime64[ns]",
         "type": "datetime"
        },
        {
         "name": "loan_status",
         "rawType": "object",
         "type": "unknown"
        }
       ],
       "ref": "9b88d94d-23f8-4797-ac58-4fae3b1ebcc7",
       "rows": [
        [
         "1",
         "user_1",
         "login",
         null,
         "2025-05-20 09:18:00",
         null
        ],
        [
         "3",
         "user_30",
         "login",
         null,
         "2025-05-23 01:35:00",
         null
        ],
        [
         "4",
         "user_31",
         "withdraw",
         "28519.39",
         "2025-05-24 14:16:00",
         null
        ],
        [
         "10",
         "user_38",
         "loan_application",
         "51030.17",
         "2025-05-18 08:02:00",
         "approved"
        ],
        [
         "11",
         "user_10",
         "atm_withdrawal",
         "24046.3",
         "2025-05-31 13:11:00",
         null
        ]
       ],
       "shape": {
        "columns": 5,
        "rows": 5
       }
      },
      "text/html": [
       "<div>\n",
       "<style scoped>\n",
       "    .dataframe tbody tr th:only-of-type {\n",
       "        vertical-align: middle;\n",
       "    }\n",
       "\n",
       "    .dataframe tbody tr th {\n",
       "        vertical-align: top;\n",
       "    }\n",
       "\n",
       "    .dataframe thead th {\n",
       "        text-align: right;\n",
       "    }\n",
       "</style>\n",
       "<table border=\"1\" class=\"dataframe\">\n",
       "  <thead>\n",
       "    <tr style=\"text-align: right;\">\n",
       "      <th></th>\n",
       "      <th>user_id</th>\n",
       "      <th>event</th>\n",
       "      <th>amount</th>\n",
       "      <th>timestamp</th>\n",
       "      <th>loan_status</th>\n",
       "    </tr>\n",
       "  </thead>\n",
       "  <tbody>\n",
       "    <tr>\n",
       "      <th>1</th>\n",
       "      <td>user_1</td>\n",
       "      <td>login</td>\n",
       "      <td>NaN</td>\n",
       "      <td>2025-05-20 09:18:00</td>\n",
       "      <td>NaN</td>\n",
       "    </tr>\n",
       "    <tr>\n",
       "      <th>3</th>\n",
       "      <td>user_30</td>\n",
       "      <td>login</td>\n",
       "      <td>NaN</td>\n",
       "      <td>2025-05-23 01:35:00</td>\n",
       "      <td>NaN</td>\n",
       "    </tr>\n",
       "    <tr>\n",
       "      <th>4</th>\n",
       "      <td>user_31</td>\n",
       "      <td>withdraw</td>\n",
       "      <td>28519.39</td>\n",
       "      <td>2025-05-24 14:16:00</td>\n",
       "      <td>NaN</td>\n",
       "    </tr>\n",
       "    <tr>\n",
       "      <th>10</th>\n",
       "      <td>user_38</td>\n",
       "      <td>loan_application</td>\n",
       "      <td>51030.17</td>\n",
       "      <td>2025-05-18 08:02:00</td>\n",
       "      <td>approved</td>\n",
       "    </tr>\n",
       "    <tr>\n",
       "      <th>11</th>\n",
       "      <td>user_10</td>\n",
       "      <td>atm_withdrawal</td>\n",
       "      <td>24046.30</td>\n",
       "      <td>2025-05-31 13:11:00</td>\n",
       "      <td>NaN</td>\n",
       "    </tr>\n",
       "  </tbody>\n",
       "</table>\n",
       "</div>"
      ],
      "text/plain": [
       "    user_id             event    amount           timestamp loan_status\n",
       "1    user_1             login       NaN 2025-05-20 09:18:00         NaN\n",
       "3   user_30             login       NaN 2025-05-23 01:35:00         NaN\n",
       "4   user_31          withdraw  28519.39 2025-05-24 14:16:00         NaN\n",
       "10  user_38  loan_application  51030.17 2025-05-18 08:02:00    approved\n",
       "11  user_10    atm_withdrawal  24046.30 2025-05-31 13:11:00         NaN"
      ]
     },
     "execution_count": 109,
     "metadata": {},
     "output_type": "execute_result"
    }
   ],
   "source": [
    "# Create a tracking file with a last extraction timestamp\n",
    "with open(\"last_extraction.txt\", \"w\") as file:\n",
    "    file.write(\"2025-05-15 12:00:00\") # Initial checkpoint is from the middle of the month\n",
    "\n",
    "# Read the last extraction timestamp\n",
    "with open(\"last_extraction.txt\", \"r\") as file:\n",
    "    last_extraction = file.read().strip()\n",
    "\n",
    "# Load the banking dataset\n",
    "banking_data = pd.read_csv(\"banking_data.csv\", parse_dates=[\"timestamp\"])\n",
    "\n",
    "# Filter only new or updated records\n",
    "last_extraction_time = pd.to_datetime(last_extraction)\n",
    "inc_ext = banking_data[banking_data['timestamp'] > last_extraction_time]\n",
    "\n",
    "# Display results\n",
    "print(f\"Extracted {len(inc_ext)} rows incrementally since {last_extraction}.\")\n",
    "\n",
    "# Update the checkpoint\n",
    "new_checkpoint = banking_data['timestamp'].max().isoformat()\n",
    "with open(\"last_extraction.txt\", \"w\") as f:\n",
    "    f.write(new_checkpoint)\n",
    "print(f\"Updated last extraction timestamp to {new_checkpoint}.\")\n",
    "inc_ext.head()"
   ]
  },
  {
   "cell_type": "markdown",
   "id": "43052cc6",
   "metadata": {},
   "source": [
    "## **2. Transformation**\n",
    "* Transformation is the process of converting data from its original format into a format that is suitable for analysis.\n",
    "* This can include cleaning, aggregating, enriching the data, structuring, filtering, categorizing, and more.\n",
    "* We will perform some of the common transformation tasks on both the full and incremental extraction data.\n",
    "\n",
    "\n",
    "### I. Transformation on Full Extraction Data\n",
    "\n",
    "#### ***a. Data Cleaning***\n",
    "This process involves removing or correcting data this is incorrect, incomplete, or irrelevant. In this case, we will  check for missing values in the dataset and remove any rows that contain them. We will also check for duplicate rows and remove them if they exist.\n"
   ]
  },
  {
   "cell_type": "code",
   "execution_count": 110,
   "id": "f898b45c",
   "metadata": {},
   "outputs": [
    {
     "name": "stdout",
     "output_type": "stream",
     "text": [
      "Missing values in each column:\n",
      "user_id          0\n",
      "event            0\n",
      "amount          40\n",
      "timestamp        0\n",
      "loan_status    126\n",
      "dtype: int64\n",
      "Number of duplicate rows: 7\n",
      "\n",
      "Number of rows before removing duplicates: 154\n",
      "Number of rows after removing duplicates: 147\n"
     ]
    },
    {
     "name": "stderr",
     "output_type": "stream",
     "text": [
      "C:\\Users\\admin\\AppData\\Local\\Temp\\ipykernel_15296\\2183976910.py:6: FutureWarning: Setting an item of incompatible dtype is deprecated and will raise an error in a future version of pandas. Value 'null' has dtype incompatible with float64, please explicitly cast to a compatible dtype first.\n",
      "  full_extraction.fillna(value='null', inplace=True)\n"
     ]
    },
    {
     "data": {
      "application/vnd.microsoft.datawrangler.viewer.v0+json": {
       "columns": [
        {
         "name": "index",
         "rawType": "int64",
         "type": "integer"
        },
        {
         "name": "user_id",
         "rawType": "object",
         "type": "string"
        },
        {
         "name": "event",
         "rawType": "object",
         "type": "string"
        },
        {
         "name": "amount",
         "rawType": "object",
         "type": "unknown"
        },
        {
         "name": "timestamp",
         "rawType": "datetime64[ns]",
         "type": "datetime"
        },
        {
         "name": "loan_status",
         "rawType": "object",
         "type": "string"
        }
       ],
       "ref": "aec2e503-870b-4fe7-a43f-c466878643ac",
       "rows": [
        [
         "0",
         "user_49",
         "login",
         "null",
         "2025-05-04 08:49:00",
         "null"
        ],
        [
         "1",
         "user_1",
         "login",
         "null",
         "2025-05-20 09:18:00",
         "null"
        ],
        [
         "2",
         "user_5",
         "atm_withdrawal",
         "86308.98",
         "2025-05-03 12:24:00",
         "null"
        ],
        [
         "3",
         "user_30",
         "login",
         "null",
         "2025-05-23 01:35:00",
         "null"
        ],
        [
         "4",
         "user_31",
         "withdraw",
         "28519.39",
         "2025-05-24 14:16:00",
         "null"
        ]
       ],
       "shape": {
        "columns": 5,
        "rows": 5
       }
      },
      "text/html": [
       "<div>\n",
       "<style scoped>\n",
       "    .dataframe tbody tr th:only-of-type {\n",
       "        vertical-align: middle;\n",
       "    }\n",
       "\n",
       "    .dataframe tbody tr th {\n",
       "        vertical-align: top;\n",
       "    }\n",
       "\n",
       "    .dataframe thead th {\n",
       "        text-align: right;\n",
       "    }\n",
       "</style>\n",
       "<table border=\"1\" class=\"dataframe\">\n",
       "  <thead>\n",
       "    <tr style=\"text-align: right;\">\n",
       "      <th></th>\n",
       "      <th>user_id</th>\n",
       "      <th>event</th>\n",
       "      <th>amount</th>\n",
       "      <th>timestamp</th>\n",
       "      <th>loan_status</th>\n",
       "    </tr>\n",
       "  </thead>\n",
       "  <tbody>\n",
       "    <tr>\n",
       "      <th>0</th>\n",
       "      <td>user_49</td>\n",
       "      <td>login</td>\n",
       "      <td>null</td>\n",
       "      <td>2025-05-04 08:49:00</td>\n",
       "      <td>null</td>\n",
       "    </tr>\n",
       "    <tr>\n",
       "      <th>1</th>\n",
       "      <td>user_1</td>\n",
       "      <td>login</td>\n",
       "      <td>null</td>\n",
       "      <td>2025-05-20 09:18:00</td>\n",
       "      <td>null</td>\n",
       "    </tr>\n",
       "    <tr>\n",
       "      <th>2</th>\n",
       "      <td>user_5</td>\n",
       "      <td>atm_withdrawal</td>\n",
       "      <td>86308.98</td>\n",
       "      <td>2025-05-03 12:24:00</td>\n",
       "      <td>null</td>\n",
       "    </tr>\n",
       "    <tr>\n",
       "      <th>3</th>\n",
       "      <td>user_30</td>\n",
       "      <td>login</td>\n",
       "      <td>null</td>\n",
       "      <td>2025-05-23 01:35:00</td>\n",
       "      <td>null</td>\n",
       "    </tr>\n",
       "    <tr>\n",
       "      <th>4</th>\n",
       "      <td>user_31</td>\n",
       "      <td>withdraw</td>\n",
       "      <td>28519.39</td>\n",
       "      <td>2025-05-24 14:16:00</td>\n",
       "      <td>null</td>\n",
       "    </tr>\n",
       "  </tbody>\n",
       "</table>\n",
       "</div>"
      ],
      "text/plain": [
       "   user_id           event    amount           timestamp loan_status\n",
       "0  user_49           login      null 2025-05-04 08:49:00        null\n",
       "1   user_1           login      null 2025-05-20 09:18:00        null\n",
       "2   user_5  atm_withdrawal  86308.98 2025-05-03 12:24:00        null\n",
       "3  user_30           login      null 2025-05-23 01:35:00        null\n",
       "4  user_31        withdraw  28519.39 2025-05-24 14:16:00        null"
      ]
     },
     "execution_count": 110,
     "metadata": {},
     "output_type": "execute_result"
    }
   ],
   "source": [
    "# Checking for missing values\n",
    "missing_values = full_extraction.isnull().sum()\n",
    "print(f\"Missing values in each column:\\n{missing_values}\")\n",
    "\n",
    "# filling missing values with null\n",
    "full_extraction.fillna(value='null', inplace=True)\n",
    "\n",
    "# Checking for duplicate rows\n",
    "duplicate_rows = full_extraction.duplicated().sum()\n",
    "print(f\"Number of duplicate rows: {duplicate_rows}\")\n",
    "\n",
    "# Remove duplicates\n",
    "full_ext_clean = full_extraction.drop_duplicates()\n",
    "print(f\"\\nNumber of rows before removing duplicates: {len(full_extraction)}\")\n",
    "print(f\"Number of rows after removing duplicates: {len(full_ext_clean)}\")\n",
    "full_ext_clean.head()"
   ]
  },
  {
   "cell_type": "markdown",
   "id": "14ff2164",
   "metadata": {},
   "source": [
    "### ***b. Enriching the data***\n",
    "Enriching the data involves adding additional information to the dataset to make it more useful. In this case, we will add a new column, `hour`, to the dataset that contains the hour of the day when the transaction was made. This will allow us to analyze the data by hour and see if there are any patterns in the data."
   ]
  },
  {
   "cell_type": "code",
   "execution_count": 111,
   "id": "3c922721",
   "metadata": {},
   "outputs": [
    {
     "data": {
      "application/vnd.microsoft.datawrangler.viewer.v0+json": {
       "columns": [
        {
         "name": "index",
         "rawType": "int64",
         "type": "integer"
        },
        {
         "name": "user_id",
         "rawType": "object",
         "type": "string"
        },
        {
         "name": "event",
         "rawType": "object",
         "type": "string"
        },
        {
         "name": "amount",
         "rawType": "object",
         "type": "unknown"
        },
        {
         "name": "timestamp",
         "rawType": "datetime64[ns]",
         "type": "datetime"
        },
        {
         "name": "loan_status",
         "rawType": "object",
         "type": "string"
        },
        {
         "name": "hour",
         "rawType": "int32",
         "type": "integer"
        }
       ],
       "ref": "7ffbe0a9-bace-4d8b-b5aa-56eab727c001",
       "rows": [
        [
         "0",
         "user_49",
         "login",
         "null",
         "2025-05-04 08:49:00",
         "null",
         "8"
        ],
        [
         "1",
         "user_1",
         "login",
         "null",
         "2025-05-20 09:18:00",
         "null",
         "9"
        ],
        [
         "2",
         "user_5",
         "atm_withdrawal",
         "86308.98",
         "2025-05-03 12:24:00",
         "null",
         "12"
        ],
        [
         "3",
         "user_30",
         "login",
         "null",
         "2025-05-23 01:35:00",
         "null",
         "1"
        ],
        [
         "4",
         "user_31",
         "withdraw",
         "28519.39",
         "2025-05-24 14:16:00",
         "null",
         "14"
        ]
       ],
       "shape": {
        "columns": 6,
        "rows": 5
       }
      },
      "text/html": [
       "<div>\n",
       "<style scoped>\n",
       "    .dataframe tbody tr th:only-of-type {\n",
       "        vertical-align: middle;\n",
       "    }\n",
       "\n",
       "    .dataframe tbody tr th {\n",
       "        vertical-align: top;\n",
       "    }\n",
       "\n",
       "    .dataframe thead th {\n",
       "        text-align: right;\n",
       "    }\n",
       "</style>\n",
       "<table border=\"1\" class=\"dataframe\">\n",
       "  <thead>\n",
       "    <tr style=\"text-align: right;\">\n",
       "      <th></th>\n",
       "      <th>user_id</th>\n",
       "      <th>event</th>\n",
       "      <th>amount</th>\n",
       "      <th>timestamp</th>\n",
       "      <th>loan_status</th>\n",
       "      <th>hour</th>\n",
       "    </tr>\n",
       "  </thead>\n",
       "  <tbody>\n",
       "    <tr>\n",
       "      <th>0</th>\n",
       "      <td>user_49</td>\n",
       "      <td>login</td>\n",
       "      <td>null</td>\n",
       "      <td>2025-05-04 08:49:00</td>\n",
       "      <td>null</td>\n",
       "      <td>8</td>\n",
       "    </tr>\n",
       "    <tr>\n",
       "      <th>1</th>\n",
       "      <td>user_1</td>\n",
       "      <td>login</td>\n",
       "      <td>null</td>\n",
       "      <td>2025-05-20 09:18:00</td>\n",
       "      <td>null</td>\n",
       "      <td>9</td>\n",
       "    </tr>\n",
       "    <tr>\n",
       "      <th>2</th>\n",
       "      <td>user_5</td>\n",
       "      <td>atm_withdrawal</td>\n",
       "      <td>86308.98</td>\n",
       "      <td>2025-05-03 12:24:00</td>\n",
       "      <td>null</td>\n",
       "      <td>12</td>\n",
       "    </tr>\n",
       "    <tr>\n",
       "      <th>3</th>\n",
       "      <td>user_30</td>\n",
       "      <td>login</td>\n",
       "      <td>null</td>\n",
       "      <td>2025-05-23 01:35:00</td>\n",
       "      <td>null</td>\n",
       "      <td>1</td>\n",
       "    </tr>\n",
       "    <tr>\n",
       "      <th>4</th>\n",
       "      <td>user_31</td>\n",
       "      <td>withdraw</td>\n",
       "      <td>28519.39</td>\n",
       "      <td>2025-05-24 14:16:00</td>\n",
       "      <td>null</td>\n",
       "      <td>14</td>\n",
       "    </tr>\n",
       "  </tbody>\n",
       "</table>\n",
       "</div>"
      ],
      "text/plain": [
       "   user_id           event    amount           timestamp loan_status  hour\n",
       "0  user_49           login      null 2025-05-04 08:49:00        null     8\n",
       "1   user_1           login      null 2025-05-20 09:18:00        null     9\n",
       "2   user_5  atm_withdrawal  86308.98 2025-05-03 12:24:00        null    12\n",
       "3  user_30           login      null 2025-05-23 01:35:00        null     1\n",
       "4  user_31        withdraw  28519.39 2025-05-24 14:16:00        null    14"
      ]
     },
     "execution_count": 111,
     "metadata": {},
     "output_type": "execute_result"
    }
   ],
   "source": [
    "# copy of the datafram\n",
    "full_ext_clean = full_ext_clean.copy()\n",
    "\n",
    "# Convert 'timestamp' to datetime and extract hour\n",
    "full_ext_clean.loc[:, 'timestamp'] = pd.to_datetime(full_ext_clean['timestamp'], errors='coerce')\n",
    "full_ext_clean.loc[:, 'hour'] = full_ext_clean['timestamp'].dt.hour\n",
    "full_ext_clean.head()"
   ]
  },
  {
   "cell_type": "markdown",
   "id": "790ceb06",
   "metadata": {},
   "source": [
    "### ***3. Categorizating the data***\n",
    "Categorizing the data invloves converting the data into categories or groups to make it easier to analyze. In this case, we will categorize the hour of the day into three categories: morning, afternoon, and evening. This will allow us to analyze the data by time of day and see if there are any patterns in the data."
   ]
  },
  {
   "cell_type": "code",
   "execution_count": 112,
   "id": "f7475889",
   "metadata": {},
   "outputs": [
    {
     "data": {
      "application/vnd.microsoft.datawrangler.viewer.v0+json": {
       "columns": [
        {
         "name": "index",
         "rawType": "int64",
         "type": "integer"
        },
        {
         "name": "user_id",
         "rawType": "object",
         "type": "string"
        },
        {
         "name": "event",
         "rawType": "object",
         "type": "string"
        },
        {
         "name": "amount",
         "rawType": "object",
         "type": "unknown"
        },
        {
         "name": "timestamp",
         "rawType": "datetime64[ns]",
         "type": "datetime"
        },
        {
         "name": "loan_status",
         "rawType": "object",
         "type": "string"
        },
        {
         "name": "hour",
         "rawType": "int32",
         "type": "integer"
        },
        {
         "name": "day_period",
         "rawType": "object",
         "type": "string"
        }
       ],
       "ref": "4fe05653-5040-4f37-9922-ca5b454477fb",
       "rows": [
        [
         "0",
         "user_49",
         "login",
         "null",
         "2025-05-04 08:49:00",
         "null",
         "8",
         "morning"
        ],
        [
         "1",
         "user_1",
         "login",
         "null",
         "2025-05-20 09:18:00",
         "null",
         "9",
         "morning"
        ],
        [
         "2",
         "user_5",
         "atm_withdrawal",
         "86308.98",
         "2025-05-03 12:24:00",
         "null",
         "12",
         "afternoon"
        ],
        [
         "3",
         "user_30",
         "login",
         "null",
         "2025-05-23 01:35:00",
         "null",
         "1",
         "night"
        ],
        [
         "4",
         "user_31",
         "withdraw",
         "28519.39",
         "2025-05-24 14:16:00",
         "null",
         "14",
         "afternoon"
        ]
       ],
       "shape": {
        "columns": 7,
        "rows": 5
       }
      },
      "text/html": [
       "<div>\n",
       "<style scoped>\n",
       "    .dataframe tbody tr th:only-of-type {\n",
       "        vertical-align: middle;\n",
       "    }\n",
       "\n",
       "    .dataframe tbody tr th {\n",
       "        vertical-align: top;\n",
       "    }\n",
       "\n",
       "    .dataframe thead th {\n",
       "        text-align: right;\n",
       "    }\n",
       "</style>\n",
       "<table border=\"1\" class=\"dataframe\">\n",
       "  <thead>\n",
       "    <tr style=\"text-align: right;\">\n",
       "      <th></th>\n",
       "      <th>user_id</th>\n",
       "      <th>event</th>\n",
       "      <th>amount</th>\n",
       "      <th>timestamp</th>\n",
       "      <th>loan_status</th>\n",
       "      <th>hour</th>\n",
       "      <th>day_period</th>\n",
       "    </tr>\n",
       "  </thead>\n",
       "  <tbody>\n",
       "    <tr>\n",
       "      <th>0</th>\n",
       "      <td>user_49</td>\n",
       "      <td>login</td>\n",
       "      <td>null</td>\n",
       "      <td>2025-05-04 08:49:00</td>\n",
       "      <td>null</td>\n",
       "      <td>8</td>\n",
       "      <td>morning</td>\n",
       "    </tr>\n",
       "    <tr>\n",
       "      <th>1</th>\n",
       "      <td>user_1</td>\n",
       "      <td>login</td>\n",
       "      <td>null</td>\n",
       "      <td>2025-05-20 09:18:00</td>\n",
       "      <td>null</td>\n",
       "      <td>9</td>\n",
       "      <td>morning</td>\n",
       "    </tr>\n",
       "    <tr>\n",
       "      <th>2</th>\n",
       "      <td>user_5</td>\n",
       "      <td>atm_withdrawal</td>\n",
       "      <td>86308.98</td>\n",
       "      <td>2025-05-03 12:24:00</td>\n",
       "      <td>null</td>\n",
       "      <td>12</td>\n",
       "      <td>afternoon</td>\n",
       "    </tr>\n",
       "    <tr>\n",
       "      <th>3</th>\n",
       "      <td>user_30</td>\n",
       "      <td>login</td>\n",
       "      <td>null</td>\n",
       "      <td>2025-05-23 01:35:00</td>\n",
       "      <td>null</td>\n",
       "      <td>1</td>\n",
       "      <td>night</td>\n",
       "    </tr>\n",
       "    <tr>\n",
       "      <th>4</th>\n",
       "      <td>user_31</td>\n",
       "      <td>withdraw</td>\n",
       "      <td>28519.39</td>\n",
       "      <td>2025-05-24 14:16:00</td>\n",
       "      <td>null</td>\n",
       "      <td>14</td>\n",
       "      <td>afternoon</td>\n",
       "    </tr>\n",
       "  </tbody>\n",
       "</table>\n",
       "</div>"
      ],
      "text/plain": [
       "   user_id           event    amount           timestamp loan_status  hour  \\\n",
       "0  user_49           login      null 2025-05-04 08:49:00        null     8   \n",
       "1   user_1           login      null 2025-05-20 09:18:00        null     9   \n",
       "2   user_5  atm_withdrawal  86308.98 2025-05-03 12:24:00        null    12   \n",
       "3  user_30           login      null 2025-05-23 01:35:00        null     1   \n",
       "4  user_31        withdraw  28519.39 2025-05-24 14:16:00        null    14   \n",
       "\n",
       "  day_period  \n",
       "0    morning  \n",
       "1    morning  \n",
       "2  afternoon  \n",
       "3      night  \n",
       "4  afternoon  "
      ]
     },
     "execution_count": 112,
     "metadata": {},
     "output_type": "execute_result"
    }
   ],
   "source": [
    "# Categorization: Define time of day\n",
    "def categorize_time(hour):\n",
    "    if 5 <= hour < 12:\n",
    "        return 'morning'\n",
    "    elif 12 <= hour < 17:\n",
    "        return 'afternoon'\n",
    "    elif 17 <= hour < 21:\n",
    "        return 'evening'\n",
    "    else:\n",
    "        return 'night'\n",
    "\n",
    "# Create the 'day_period' column\n",
    "full_ext_clean['day_period'] = full_ext_clean['hour'].apply(categorize_time)\n",
    "\n",
    "# Convert full_ext_clean to csv\n",
    "full_ext_clean.to_csv('Transformed_full_ext.csv', index=False)\n",
    "full_ext_clean.head()"
   ]
  },
  {
   "cell_type": "markdown",
   "id": "0bc6569d",
   "metadata": {},
   "source": [
    "### II. Transformation on Incremental Extraction Data\n",
    "#### ***a. Data Cleaning***\n",
    "This process involves removing or correcting data that is incorrect, incomplete, or irrelevant. In this case, we will check for missing values in the dataset and remove any rows that contain them. We will also check for duplicate rows and remove them if they exist."
   ]
  },
  {
   "cell_type": "code",
   "execution_count": 113,
   "id": "42c87181",
   "metadata": {},
   "outputs": [
    {
     "name": "stdout",
     "output_type": "stream",
     "text": [
      "Missing values in each column:\n",
      "user_id         0\n",
      "event           0\n",
      "amount         14\n",
      "timestamp       0\n",
      "loan_status    64\n",
      "dtype: int64\n",
      "Number of duplicate rows: 4\n",
      "\n",
      "Number of rows before removing duplicates: 83\n",
      "Number of rows after removing duplicates: 79\n"
     ]
    },
    {
     "name": "stderr",
     "output_type": "stream",
     "text": [
      "C:\\Users\\admin\\AppData\\Local\\Temp\\ipykernel_15296\\3633425500.py:6: FutureWarning: Setting an item of incompatible dtype is deprecated and will raise an error in a future version of pandas. Value 'null' has dtype incompatible with float64, please explicitly cast to a compatible dtype first.\n",
      "  inc_ext.fillna(value='null', inplace=True)\n",
      "C:\\Users\\admin\\AppData\\Local\\Temp\\ipykernel_15296\\3633425500.py:6: SettingWithCopyWarning: \n",
      "A value is trying to be set on a copy of a slice from a DataFrame\n",
      "\n",
      "See the caveats in the documentation: https://pandas.pydata.org/pandas-docs/stable/user_guide/indexing.html#returning-a-view-versus-a-copy\n",
      "  inc_ext.fillna(value='null', inplace=True)\n"
     ]
    },
    {
     "data": {
      "application/vnd.microsoft.datawrangler.viewer.v0+json": {
       "columns": [
        {
         "name": "index",
         "rawType": "int64",
         "type": "integer"
        },
        {
         "name": "user_id",
         "rawType": "object",
         "type": "string"
        },
        {
         "name": "event",
         "rawType": "object",
         "type": "string"
        },
        {
         "name": "amount",
         "rawType": "object",
         "type": "unknown"
        },
        {
         "name": "timestamp",
         "rawType": "datetime64[ns]",
         "type": "datetime"
        },
        {
         "name": "loan_status",
         "rawType": "object",
         "type": "string"
        }
       ],
       "ref": "a4a0655b-6a75-4dd9-bcf8-87d6602e74af",
       "rows": [
        [
         "1",
         "user_1",
         "login",
         "null",
         "2025-05-20 09:18:00",
         "null"
        ],
        [
         "3",
         "user_30",
         "login",
         "null",
         "2025-05-23 01:35:00",
         "null"
        ],
        [
         "4",
         "user_31",
         "withdraw",
         "28519.39",
         "2025-05-24 14:16:00",
         "null"
        ],
        [
         "10",
         "user_38",
         "loan_application",
         "51030.17",
         "2025-05-18 08:02:00",
         "approved"
        ],
        [
         "11",
         "user_10",
         "atm_withdrawal",
         "24046.3",
         "2025-05-31 13:11:00",
         "null"
        ]
       ],
       "shape": {
        "columns": 5,
        "rows": 5
       }
      },
      "text/html": [
       "<div>\n",
       "<style scoped>\n",
       "    .dataframe tbody tr th:only-of-type {\n",
       "        vertical-align: middle;\n",
       "    }\n",
       "\n",
       "    .dataframe tbody tr th {\n",
       "        vertical-align: top;\n",
       "    }\n",
       "\n",
       "    .dataframe thead th {\n",
       "        text-align: right;\n",
       "    }\n",
       "</style>\n",
       "<table border=\"1\" class=\"dataframe\">\n",
       "  <thead>\n",
       "    <tr style=\"text-align: right;\">\n",
       "      <th></th>\n",
       "      <th>user_id</th>\n",
       "      <th>event</th>\n",
       "      <th>amount</th>\n",
       "      <th>timestamp</th>\n",
       "      <th>loan_status</th>\n",
       "    </tr>\n",
       "  </thead>\n",
       "  <tbody>\n",
       "    <tr>\n",
       "      <th>1</th>\n",
       "      <td>user_1</td>\n",
       "      <td>login</td>\n",
       "      <td>null</td>\n",
       "      <td>2025-05-20 09:18:00</td>\n",
       "      <td>null</td>\n",
       "    </tr>\n",
       "    <tr>\n",
       "      <th>3</th>\n",
       "      <td>user_30</td>\n",
       "      <td>login</td>\n",
       "      <td>null</td>\n",
       "      <td>2025-05-23 01:35:00</td>\n",
       "      <td>null</td>\n",
       "    </tr>\n",
       "    <tr>\n",
       "      <th>4</th>\n",
       "      <td>user_31</td>\n",
       "      <td>withdraw</td>\n",
       "      <td>28519.39</td>\n",
       "      <td>2025-05-24 14:16:00</td>\n",
       "      <td>null</td>\n",
       "    </tr>\n",
       "    <tr>\n",
       "      <th>10</th>\n",
       "      <td>user_38</td>\n",
       "      <td>loan_application</td>\n",
       "      <td>51030.17</td>\n",
       "      <td>2025-05-18 08:02:00</td>\n",
       "      <td>approved</td>\n",
       "    </tr>\n",
       "    <tr>\n",
       "      <th>11</th>\n",
       "      <td>user_10</td>\n",
       "      <td>atm_withdrawal</td>\n",
       "      <td>24046.3</td>\n",
       "      <td>2025-05-31 13:11:00</td>\n",
       "      <td>null</td>\n",
       "    </tr>\n",
       "  </tbody>\n",
       "</table>\n",
       "</div>"
      ],
      "text/plain": [
       "    user_id             event    amount           timestamp loan_status\n",
       "1    user_1             login      null 2025-05-20 09:18:00        null\n",
       "3   user_30             login      null 2025-05-23 01:35:00        null\n",
       "4   user_31          withdraw  28519.39 2025-05-24 14:16:00        null\n",
       "10  user_38  loan_application  51030.17 2025-05-18 08:02:00    approved\n",
       "11  user_10    atm_withdrawal   24046.3 2025-05-31 13:11:00        null"
      ]
     },
     "execution_count": 113,
     "metadata": {},
     "output_type": "execute_result"
    }
   ],
   "source": [
    "# Checking for missing values\n",
    "missing_values = inc_ext.isnull().sum()\n",
    "print(f\"Missing values in each column:\\n{missing_values}\")\n",
    "\n",
    "# filling missing values with null\n",
    "inc_ext.fillna(value='null', inplace=True)\n",
    "\n",
    "# Checking for duplicate rows\n",
    "duplicate_rows = inc_ext.duplicated().sum()\n",
    "print(f\"Number of duplicate rows: {duplicate_rows}\")\n",
    "\n",
    "# Remove duplicates\n",
    "inc_ext_clean = inc_ext.drop_duplicates()\n",
    "print(f\"\\nNumber of rows before removing duplicates: {len(inc_ext)}\")\n",
    "print(f\"Number of rows after removing duplicates: {len(inc_ext_clean)}\")\n",
    "inc_ext_clean.head()"
   ]
  },
  {
   "cell_type": "markdown",
   "id": "b1ae3c1c",
   "metadata": {},
   "source": [
    "#### ***b. Aggregating***\n",
    "This process involves combining data from multiple rows into a single row. In this case, we will aggregate the data by user id and transaction type to get the total amount of deposits, withdrawals, and transfers for each user. This will allow us to see how much each user has deposited, withdrawn, and transferred in total.\n"
   ]
  },
  {
   "cell_type": "code",
   "execution_count": 114,
   "id": "86927851",
   "metadata": {},
   "outputs": [],
   "source": [
    "# aggregate the data by user_id and event\n",
    "agg_data = inc_ext_clean.groupby(['user_id', 'event']).agg({\n",
    "    'amount': 'sum',\n",
    "    'timestamp': 'count',\n",
    "    'loan_status': lambda x: ', '.join(x.dropna().unique())\n",
    "}).reset_index()\n",
    "agg_data.rename(columns={'timestamp': 'event_count'}, inplace=True)\n",
    "# Display the aggregated data\n",
    "agg_data.head()\n",
    "\n",
    "# Save the aggregated data to a CSV file\n",
    "agg_data.to_csv('Transformed_Incremental_ext.csv', index=False)"
   ]
  }
 ],
 "metadata": {
  "kernelspec": {
   "display_name": "Python 3",
   "language": "python",
   "name": "python3"
  },
  "language_info": {
   "codemirror_mode": {
    "name": "ipython",
    "version": 3
   },
   "file_extension": ".py",
   "mimetype": "text/x-python",
   "name": "python",
   "nbconvert_exporter": "python",
   "pygments_lexer": "ipython3",
   "version": "3.13.2"
  }
 },
 "nbformat": 4,
 "nbformat_minor": 5
}

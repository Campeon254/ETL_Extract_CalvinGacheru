{
 "cells": [
  {
   "cell_type": "markdown",
   "id": "55b0028b",
   "metadata": {},
   "source": [
    "# EXTRACTION-TRANSFORMATION-LOADING (ETL) \n",
    "* Extraction is the process of obtaining data from various sources and changing it to a destination designed to support analysis.\n",
    "\n",
    "The first step in the ETL process is to extract data from different sources, which can include databases, flat files, APIs, and more. The goal is to gather all relevant data needed for analysis.\n",
    "\n",
    "*Simulating Banking Data*"
   ]
  },
  {
   "cell_type": "code",
   "execution_count": 16,
   "id": "4322d847",
   "metadata": {},
   "outputs": [
    {
     "data": {
      "application/vnd.microsoft.datawrangler.viewer.v0+json": {
       "columns": [
        {
         "name": "index",
         "rawType": "int64",
         "type": "integer"
        },
        {
         "name": "user_id",
         "rawType": "object",
         "type": "string"
        },
        {
         "name": "event",
         "rawType": "object",
         "type": "string"
        },
        {
         "name": "timestamp",
         "rawType": "object",
         "type": "string"
        }
       ],
       "ref": "8371b31a-b49d-4ae8-89eb-a600c5d12cf0",
       "rows": [
        [
         "128",
         "user_14",
         "loan_application",
         "2025-05-30T17:34:00"
        ],
        [
         "129",
         "user_14",
         "atm_withdrawal",
         "2025-05-31T07:25:00"
        ],
        [
         "130",
         "user_2",
         "loan_application",
         "2025-05-31T17:15:00"
        ],
        [
         "131",
         "user_11",
         "deposit",
         "2025-05-31T06:41:00"
        ],
        [
         "132",
         "user_21",
         "login",
         "2025-05-31T23:32:00"
        ]
       ],
       "shape": {
        "columns": 3,
        "rows": 5
       }
      },
      "text/html": [
       "<div>\n",
       "<style scoped>\n",
       "    .dataframe tbody tr th:only-of-type {\n",
       "        vertical-align: middle;\n",
       "    }\n",
       "\n",
       "    .dataframe tbody tr th {\n",
       "        vertical-align: top;\n",
       "    }\n",
       "\n",
       "    .dataframe thead th {\n",
       "        text-align: right;\n",
       "    }\n",
       "</style>\n",
       "<table border=\"1\" class=\"dataframe\">\n",
       "  <thead>\n",
       "    <tr style=\"text-align: right;\">\n",
       "      <th></th>\n",
       "      <th>user_id</th>\n",
       "      <th>event</th>\n",
       "      <th>timestamp</th>\n",
       "    </tr>\n",
       "  </thead>\n",
       "  <tbody>\n",
       "    <tr>\n",
       "      <th>128</th>\n",
       "      <td>user_14</td>\n",
       "      <td>loan_application</td>\n",
       "      <td>2025-05-30T17:34:00</td>\n",
       "    </tr>\n",
       "    <tr>\n",
       "      <th>129</th>\n",
       "      <td>user_14</td>\n",
       "      <td>atm_withdrawal</td>\n",
       "      <td>2025-05-31T07:25:00</td>\n",
       "    </tr>\n",
       "    <tr>\n",
       "      <th>130</th>\n",
       "      <td>user_2</td>\n",
       "      <td>loan_application</td>\n",
       "      <td>2025-05-31T17:15:00</td>\n",
       "    </tr>\n",
       "    <tr>\n",
       "      <th>131</th>\n",
       "      <td>user_11</td>\n",
       "      <td>deposit</td>\n",
       "      <td>2025-05-31T06:41:00</td>\n",
       "    </tr>\n",
       "    <tr>\n",
       "      <th>132</th>\n",
       "      <td>user_21</td>\n",
       "      <td>login</td>\n",
       "      <td>2025-05-31T23:32:00</td>\n",
       "    </tr>\n",
       "  </tbody>\n",
       "</table>\n",
       "</div>"
      ],
      "text/plain": [
       "     user_id             event            timestamp\n",
       "128  user_14  loan_application  2025-05-30T17:34:00\n",
       "129  user_14    atm_withdrawal  2025-05-31T07:25:00\n",
       "130   user_2  loan_application  2025-05-31T17:15:00\n",
       "131  user_11           deposit  2025-05-31T06:41:00\n",
       "132  user_21             login  2025-05-31T23:32:00"
      ]
     },
     "execution_count": 16,
     "metadata": {},
     "output_type": "execute_result"
    }
   ],
   "source": [
    "import pandas as pd\n",
    "import numpy as np\n",
    "from datetime import datetime, timedelta\n",
    "import random\n",
    "\n",
    "# simulating banking data\n",
    "events = ['deposit', 'withdraw', 'loan_application', 'atm_withdrawal', 'login']\n",
    "users = ['user_'+str(i) for i in range(1, 50)]\n",
    "data = []\n",
    "\n",
    "# start date for the simulation\n",
    "start_date = datetime(2025, 5, 1)\n",
    "end_date = datetime(2025, 5, 31)\n",
    "delta = (end_date - start_date).days + 1# including end date\n",
    "\n",
    "for i in range(delta):\n",
    "    date = start_date + timedelta(days=i)\n",
    "    for _ in range(random.randint(3, 6)):# 3–6 events per day\n",
    "        # each event has a random user and timestamp\n",
    "        data.append({\n",
    "            'user_id': random.choice(users),\n",
    "            'event': random.choice(events),\n",
    "            'timestamp': (start_date + timedelta(days=i) + timedelta(hours=random.randint(0, 23), minutes=random.randint(0, 59))).isoformat()\n",
    "        })\n",
    "banking_data = pd.DataFrame(data)\n",
    "banking_data.to_csv('banking_data_large.csv', index=False)\n",
    "banking_data.tail()"
   ]
  },
  {
   "cell_type": "markdown",
   "id": "dc940cad",
   "metadata": {},
   "source": [
    "## Full Extraction\n",
    "A Full Extraction means that every time you run the ETL process, you extract all records from the data source, regardless of whether they have changed or not."
   ]
  },
  {
   "cell_type": "code",
   "execution_count": 14,
   "id": "1b4f842e",
   "metadata": {},
   "outputs": [
    {
     "name": "stdout",
     "output_type": "stream",
     "text": [
      "Pulled 140 rows via full extraction.\n"
     ]
    },
    {
     "data": {
      "application/vnd.microsoft.datawrangler.viewer.v0+json": {
       "columns": [
        {
         "name": "index",
         "rawType": "int64",
         "type": "integer"
        },
        {
         "name": "user_id",
         "rawType": "object",
         "type": "string"
        },
        {
         "name": "event",
         "rawType": "object",
         "type": "string"
        },
        {
         "name": "timestamp",
         "rawType": "datetime64[ns]",
         "type": "datetime"
        }
       ],
       "ref": "fd3f6e54-c9be-43ed-8ebc-58a1842d1674",
       "rows": [
        [
         "0",
         "user_48",
         "atm_withdrawal",
         "2025-05-01 19:48:00"
        ],
        [
         "1",
         "user_28",
         "withdraw",
         "2025-05-01 18:52:00"
        ],
        [
         "2",
         "user_18",
         "withdraw",
         "2025-05-01 04:16:00"
        ],
        [
         "3",
         "user_19",
         "deposit",
         "2025-05-01 16:28:00"
        ],
        [
         "4",
         "user_46",
         "login",
         "2025-05-01 02:23:00"
        ]
       ],
       "shape": {
        "columns": 3,
        "rows": 5
       }
      },
      "text/html": [
       "<div>\n",
       "<style scoped>\n",
       "    .dataframe tbody tr th:only-of-type {\n",
       "        vertical-align: middle;\n",
       "    }\n",
       "\n",
       "    .dataframe tbody tr th {\n",
       "        vertical-align: top;\n",
       "    }\n",
       "\n",
       "    .dataframe thead th {\n",
       "        text-align: right;\n",
       "    }\n",
       "</style>\n",
       "<table border=\"1\" class=\"dataframe\">\n",
       "  <thead>\n",
       "    <tr style=\"text-align: right;\">\n",
       "      <th></th>\n",
       "      <th>user_id</th>\n",
       "      <th>event</th>\n",
       "      <th>timestamp</th>\n",
       "    </tr>\n",
       "  </thead>\n",
       "  <tbody>\n",
       "    <tr>\n",
       "      <th>0</th>\n",
       "      <td>user_48</td>\n",
       "      <td>atm_withdrawal</td>\n",
       "      <td>2025-05-01 19:48:00</td>\n",
       "    </tr>\n",
       "    <tr>\n",
       "      <th>1</th>\n",
       "      <td>user_28</td>\n",
       "      <td>withdraw</td>\n",
       "      <td>2025-05-01 18:52:00</td>\n",
       "    </tr>\n",
       "    <tr>\n",
       "      <th>2</th>\n",
       "      <td>user_18</td>\n",
       "      <td>withdraw</td>\n",
       "      <td>2025-05-01 04:16:00</td>\n",
       "    </tr>\n",
       "    <tr>\n",
       "      <th>3</th>\n",
       "      <td>user_19</td>\n",
       "      <td>deposit</td>\n",
       "      <td>2025-05-01 16:28:00</td>\n",
       "    </tr>\n",
       "    <tr>\n",
       "      <th>4</th>\n",
       "      <td>user_46</td>\n",
       "      <td>login</td>\n",
       "      <td>2025-05-01 02:23:00</td>\n",
       "    </tr>\n",
       "  </tbody>\n",
       "</table>\n",
       "</div>"
      ],
      "text/plain": [
       "   user_id           event           timestamp\n",
       "0  user_48  atm_withdrawal 2025-05-01 19:48:00\n",
       "1  user_28        withdraw 2025-05-01 18:52:00\n",
       "2  user_18        withdraw 2025-05-01 04:16:00\n",
       "3  user_19         deposit 2025-05-01 16:28:00\n",
       "4  user_46           login 2025-05-01 02:23:00"
      ]
     },
     "execution_count": 14,
     "metadata": {},
     "output_type": "execute_result"
    }
   ],
   "source": [
    "# loading the banking data\n",
    "banking_data = pd.read_csv(\"banking_data_large.csv\", parse_dates=[\"timestamp\"])\n",
    "print(f\"Pulled {len(banking_data)} rows via full extraction.\")\n",
    "banking_data.head()"
   ]
  },
  {
   "cell_type": "markdown",
   "id": "207f3381",
   "metadata": {},
   "source": [
    "## Incremental Extraction\n",
    "An Incremental Extraction means that you only extract records that have changed since the last extraction. This is often done by using timestamps or change data capture techniques to identify new or modified records."
   ]
  },
  {
   "cell_type": "code",
   "execution_count": 15,
   "id": "623ad125",
   "metadata": {},
   "outputs": [
    {
     "name": "stdout",
     "output_type": "stream",
     "text": [
      "Extracted 77 rows incrementally since 2025-05-15 12:00:00.\n",
      "Updated last extraction timestamp to 2025-05-31T21:58:00.\n"
     ]
    }
   ],
   "source": [
    "# Create a tracking file with a last extraction timestamp\n",
    "with open(\"last_extraction.txt\", \"w\") as f:\n",
    "    f.write(\"2025-05-15 12:00:00\") # Initial checkpoint\n",
    "\n",
    "# Read the last extraction timestamp\n",
    "with open(\"last_extraction.txt\", \"r\") as f:\n",
    "    last_extraction = f.read().strip()\n",
    "\n",
    "# Load the banking dataset\n",
    "df = pd.read_csv(\"banking_data_large.csv\", parse_dates=[\"timestamp\"])\n",
    "\n",
    "# Filter only new or updated records\n",
    "last_extraction_time = pd.to_datetime(last_extraction)\n",
    "df_incremental = df[df['timestamp'] > last_extraction_time]\n",
    "\n",
    "# Display results\n",
    "print(f\"Extracted {len(df_incremental)} rows incrementally since {last_extraction}.\")\n",
    "df_incremental.head()\n",
    "\n",
    "# Update the checkpoint\n",
    "new_checkpoint = df['timestamp'].max().isoformat()\n",
    "with open(\"last_extraction.txt\", \"w\") as f:\n",
    "    f.write(new_checkpoint)\n",
    "print(f\"Updated last extraction timestamp to {new_checkpoint}.\")\n"
   ]
  }
 ],
 "metadata": {
  "kernelspec": {
   "display_name": "Python 3",
   "language": "python",
   "name": "python3"
  },
  "language_info": {
   "codemirror_mode": {
    "name": "ipython",
    "version": 3
   },
   "file_extension": ".py",
   "mimetype": "text/x-python",
   "name": "python",
   "nbconvert_exporter": "python",
   "pygments_lexer": "ipython3",
   "version": "3.13.2"
  }
 },
 "nbformat": 4,
 "nbformat_minor": 5
}
